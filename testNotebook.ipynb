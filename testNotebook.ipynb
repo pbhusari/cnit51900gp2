{
 "cells": [
  {
   "cell_type": "code",
   "execution_count": 252,
   "metadata": {
    "collapsed": true,
    "pycharm": {
     "name": "#%%\n"
    }
   },
   "outputs": [
    {
     "name": "stderr",
     "output_type": "stream",
     "text": [
      "[nltk_data] Downloading package punkt to\n",
      "[nltk_data]     C:\\Users\\pbhusari\\AppData\\Roaming\\nltk_data...\n",
      "[nltk_data]   Package punkt is already up-to-date!\n",
      "[nltk_data] Downloading package universal_tagset to\n",
      "[nltk_data]     C:\\Users\\pbhusari\\AppData\\Roaming\\nltk_data...\n",
      "[nltk_data]   Package universal_tagset is already up-to-date!\n"
     ]
    }
   ],
   "source": [
    "from SoundsLike.SoundsLike import Search\n",
    "from PyDictionary import PyDictionary\n",
    "import pandas as pd\n",
    "dictionary=PyDictionary()\n",
    "import nltk\n",
    "import re\n",
    "nltk.download('punkt')\n",
    "nltk.download('universal_tagset')\n",
    "from nltk.wsd import lesk\n",
    "import eng_to_ipa as ipa\n",
    "import os\n",
    "import openai\n",
    "import numpy as np\n",
    "import math\n",
    "\n",
    "def sigmoid(x):\n",
    "  return 1 / (1 + math.exp(-x))"
   ]
  },
  {
   "cell_type": "code",
   "execution_count": 39,
   "outputs": [
    {
     "data": {
      "text/plain": "                                                 prompt   punWord\n0             \"I'm halfway up a mountain,\" Tom alleged.   alleged\n1      I'd like to be a Chinese laborer, said Tom co...    coolly\n2        Dentists don't like a hard day at the orifice.   orifice\n3                        Are evil wildebeests bad gnus?      gnus\n4                       A busy barber is quite harried.   harried\n...                                                 ...       ...\n1267   I felt sick after I ate the scallopini. I did...      veal\n1268        Church disputes can be settled with canons.    canons\n1269   I love the novels of D. H. Lawrence, said the...  chattily\n1270   She was only a Carpenter's daughter, but you ...     sores\n1271                                                             \n\n[1272 rows x 2 columns]",
      "text/html": "<div>\n<style scoped>\n    .dataframe tbody tr th:only-of-type {\n        vertical-align: middle;\n    }\n\n    .dataframe tbody tr th {\n        vertical-align: top;\n    }\n\n    .dataframe thead th {\n        text-align: right;\n    }\n</style>\n<table border=\"1\" class=\"dataframe\">\n  <thead>\n    <tr style=\"text-align: right;\">\n      <th></th>\n      <th>prompt</th>\n      <th>punWord</th>\n    </tr>\n  </thead>\n  <tbody>\n    <tr>\n      <th>0</th>\n      <td>\"I'm halfway up a mountain,\" Tom alleged.</td>\n      <td>alleged</td>\n    </tr>\n    <tr>\n      <th>1</th>\n      <td>I'd like to be a Chinese laborer, said Tom co...</td>\n      <td>coolly</td>\n    </tr>\n    <tr>\n      <th>2</th>\n      <td>Dentists don't like a hard day at the orifice.</td>\n      <td>orifice</td>\n    </tr>\n    <tr>\n      <th>3</th>\n      <td>Are evil wildebeests bad gnus?</td>\n      <td>gnus</td>\n    </tr>\n    <tr>\n      <th>4</th>\n      <td>A busy barber is quite harried.</td>\n      <td>harried</td>\n    </tr>\n    <tr>\n      <th>...</th>\n      <td>...</td>\n      <td>...</td>\n    </tr>\n    <tr>\n      <th>1267</th>\n      <td>I felt sick after I ate the scallopini. I did...</td>\n      <td>veal</td>\n    </tr>\n    <tr>\n      <th>1268</th>\n      <td>Church disputes can be settled with canons.</td>\n      <td>canons</td>\n    </tr>\n    <tr>\n      <th>1269</th>\n      <td>I love the novels of D. H. Lawrence, said the...</td>\n      <td>chattily</td>\n    </tr>\n    <tr>\n      <th>1270</th>\n      <td>She was only a Carpenter's daughter, but you ...</td>\n      <td>sores</td>\n    </tr>\n    <tr>\n      <th>1271</th>\n      <td></td>\n      <td></td>\n    </tr>\n  </tbody>\n</table>\n<p>1272 rows × 2 columns</p>\n</div>"
     },
     "execution_count": 39,
     "metadata": {},
     "output_type": "execute_result"
    }
   ],
   "source": [
    "header_list = ['word', 'punStatus', 'pronunciation']\n",
    "ingestionDataFrameHete = pd.read_csv(\"./concatTrainHete.txt\", sep=\" \", names=header_list)\n",
    "\n",
    "gpt3dataFrameHete = pd.DataFrame(columns=[\"prompt\", \"punWord\"])\n",
    "\n",
    "prompt = \"\"\n",
    "punWord = \"\"\n",
    "\n",
    "for index, row in ingestionDataFrameHete.iterrows():\n",
    "    word = row[\"word\"]\n",
    "    punStatus = row[\"punStatus\"]\n",
    "\n",
    "    if word == \"<sentEnd>\":\n",
    "        prompt = prompt.replace(\"\\'\\'\", \"\\\"\")\n",
    "        prompt = prompt.replace(\"\\' \", \"\\'\")\n",
    "        prompt = prompt.replace(\"\\\" \", \"\\\"\")\n",
    "        prompt = prompt.replace(\"- \", \"-\")\n",
    "        prompt = prompt.replace(',\"', ',\" ')\n",
    "        prompt = prompt.replace(',\\'', ',\\' ')\n",
    "        appendDict = {\"prompt\":prompt, \"punWord\":punWord}\n",
    "        tempAddDf = pd.DataFrame([appendDict])\n",
    "        gpt3dataFrameHete = pd.concat([gpt3dataFrameHete, tempAddDf], ignore_index=True)\n",
    "\n",
    "        prompt = \"\"\n",
    "        punWord = \"\"\n",
    "    else:\n",
    "        if \"PUNCTUATION\" in row[\"pronunciation\"]:\n",
    "            prompt = prompt + word\n",
    "        else:\n",
    "            prompt = prompt + \" \" + word\n",
    "        if punStatus == \"P\":\n",
    "            punWord = word\n",
    "gpt3dataFrameHete"
   ],
   "metadata": {
    "collapsed": false,
    "pycharm": {
     "name": "#%%\n"
    }
   }
  },
  {
   "cell_type": "code",
   "execution_count": 262,
   "outputs": [
    {
     "name": "stdout",
     "output_type": "stream",
     "text": [
      "hertz\n"
     ]
    }
   ],
   "source": [
    "sentence = \"Joke: Old electricians never die, they just do it until it hertz.\".lower()\n",
    "targetlen = 6\n",
    "\n",
    "\n",
    "response = openai.Completion.create(\n",
    "      model=\"davinci:ft-personal-2022-10-02-22-42-09\",\n",
    "      prompt=sentence + \"->\",\n",
    ")\n",
    "jokeWord = re.sub(r'[^a-zA-Z0-9]', '', response[\"choices\"][0][\"text\"][0:targetlen])\n",
    "print(jokeWord)"
   ],
   "metadata": {
    "collapsed": false,
    "pycharm": {
     "name": "#%%\n"
    }
   }
  },
  {
   "cell_type": "code",
   "execution_count": 263,
   "outputs": [
    {
     "name": "stdout",
     "output_type": "stream",
     "text": [
      "Error: The Following Error occured: list index out of range\n",
      "Hurts be the source of pain\n"
     ]
    }
   ],
   "source": [
    "\n",
    "jokeWord = re.sub(r'[^a-zA-Z0-9]', '', jokeWord.lower())\n",
    "\n",
    "for word,pos in nltk.tag.pos_tag(sentence.split(\" \"), tagset='universal'):\n",
    "    word = re.sub(r'[^a-zA-Z0-9]', '', word)\n",
    "    if word == jokeWord:\n",
    "        break\n",
    "\n",
    "posCanidateList = []\n",
    "for item in Search.closeHomophones(jokeWord):\n",
    "    wordDef = dictionary.meaning(item)\n",
    "    if wordDef is not None:\n",
    "        if str(wordDef)[0:5] != \"Error:\":\n",
    "            posCanidateList.append((item, wordDef))\n",
    "\n",
    "universalTagDict = {\n",
    "    \"ADJ\":\"Adjective\",\n",
    "    \"ADV\":\"Adverb\",\n",
    "    \"NOUN\":\"Noun\",\n",
    "    \"PRON\":\"Noun\",\n",
    "    \"VERB\":\"Verb\"\n",
    "}\n",
    "\n",
    "if pos in universalTagDict.keys():\n",
    "    pos = universalTagDict[pos]\n",
    "\n",
    "\n",
    "for word, definition in posCanidateList:\n",
    "    if word == jokeWord.capitalize():\n",
    "        pass\n",
    "    else:\n",
    "        for item in definition:\n",
    "            if pos == str(item):\n",
    "                print(word, definition[item][0])\n",
    "\n"
   ],
   "metadata": {
    "collapsed": false,
    "pycharm": {
     "name": "#%%\n"
    }
   }
  },
  {
   "cell_type": "code",
   "execution_count": 264,
   "outputs": [],
   "source": [
    "openai.api_key = 'sk-'\n",
    "\n",
    "openAiExplanation = openai.Completion.create(\n",
    "  model=\"text-davinci-002\",\n",
    "  prompt=\"Joke: \" + sentence.capitalize() + \"\\nSource: \"+ jokeWord +\"\\nTarget: \" + word.lower() + \"\\nExplanation: \",\n",
    "  temperature=0.15,\n",
    "  max_tokens=256,\n",
    "  top_p=1,\n",
    "  frequency_penalty=0,\n",
    "  presence_penalty=0\n",
    ")\n"
   ],
   "metadata": {
    "collapsed": false,
    "pycharm": {
     "name": "#%%\n"
    }
   }
  },
  {
   "cell_type": "code",
   "execution_count": 265,
   "outputs": [],
   "source": [
    "sourceDefinition = lesk(sentence, jokeWord).definition()\n",
    "targetDefinition = lesk(sentence.replace(jokeWord, word.lower()), word).definition()\n",
    "\n",
    "resp = openai.Embedding.create(\n",
    "    input=[sourceDefinition, targetDefinition],\n",
    "    engine=\"text-similarity-davinci-001\")\n",
    "\n",
    "embedding_a = resp['data'][0]['embedding']\n",
    "embedding_b = resp['data'][1]['embedding']\n",
    "\n",
    "definitionSimilarityScore = np.dot(embedding_a, embedding_b)\n",
    "pronounciationSimilarityScore = nltk.edit_distance(ipa.convert(jokeWord), ipa.convert(word.lower()))\n",
    "\n",
    "jokeScore = 100 - (80 * sigmoid(pronounciationSimilarityScore) + 20 * definitionSimilarityScore)\n"
   ],
   "metadata": {
    "collapsed": false,
    "pycharm": {
     "name": "#%%\n"
    }
   }
  },
  {
   "cell_type": "code",
   "execution_count": 266,
   "outputs": [
    {
     "name": "stdout",
     "output_type": "stream",
     "text": [
      "Joke: Joke: old electricians never die, they just do it until it hertz.\n",
      "1.\n",
      "___________________\n",
      "Source: hertz\n",
      "Target: hurts\n",
      "2.\n",
      "___________________\n",
      "IPA Edit Distance (Method 1): 1\n",
      "3.\n",
      "___________________\n",
      "Source Definition: the unit of frequency; one hertz has a periodic interval of one second\n",
      "Target Definition: a damage or loss\n",
      "4.\n",
      "___________________\n",
      "Explanation: This joke is a play on words. The word \"hertz\" is a unit of measurement for frequency, and it sounds like the word \"hurts.\" The joke is saying that old electricians never die, they just keep working until it hurts.\n",
      "5.\n",
      "___________________\n",
      "Joke Score: 28.323935454985374\n"
     ]
    }
   ],
   "source": [
    "print(\"Joke: \" + sentence.capitalize())\n",
    "print(\"1.\")\n",
    "print(\"___________________\")\n",
    "print(\"Source: \" + jokeWord)\n",
    "print(\"Target: \" + word.lower())\n",
    "print(\"2.\")\n",
    "print(\"___________________\")\n",
    "# Compute sound similarity or difference (you may use one of the metrics you tried in class exercise.\n",
    "print(\"IPA Edit Distance (Method 1): \" + str(pronounciationSimilarityScore))\n",
    "print(\"3.\")\n",
    "print(\"___________________\")\n",
    "print(\"Source Definition: \" + sourceDefinition)\n",
    "print(\"Target Definition: \" + targetDefinition)\n",
    "print(\"4.\")\n",
    "print(\"___________________\")\n",
    "# Explain what makes it a joke/pun based on the similarity of meanings and pronunciation.\n",
    "print(\"Explanation: \" + str(openAiExplanation['choices'][0]['text'].strip()))\n",
    "# GPT-3\n",
    "print(\"5.\")\n",
    "print(\"___________________\")\n",
    "# Bonus: come up with a measure of how good a joke/pun is based on your appreciation of it, sound similarity of target/source; meaning similarity, or anything else that you feel is useful.\n",
    "# Just composite phoneme edit distance (0.8) and lesk definition similarity (0.2)\n",
    "# Sound similar, different definitions\n",
    "print(\"Joke Score: \" +  str(jokeScore))"
   ],
   "metadata": {
    "collapsed": false,
    "pycharm": {
     "name": "#%%\n"
    }
   }
  }
 ],
 "metadata": {
  "kernelspec": {
   "display_name": "Python 3",
   "language": "python",
   "name": "python3"
  },
  "language_info": {
   "codemirror_mode": {
    "name": "ipython",
    "version": 2
   },
   "file_extension": ".py",
   "mimetype": "text/x-python",
   "name": "python",
   "nbconvert_exporter": "python",
   "pygments_lexer": "ipython2",
   "version": "2.7.6"
  }
 },
 "nbformat": 4,
 "nbformat_minor": 0
}